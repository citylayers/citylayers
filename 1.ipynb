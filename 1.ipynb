{
 "cells": [
  {
   "cell_type": "code",
   "execution_count": 1,
   "id": "aa974c19",
   "metadata": {},
   "outputs": [
    {
     "name": "stdout",
     "output_type": "stream",
     "text": [
      "Collecting neo4j\n",
      "  Downloading neo4j-6.0.2-py3-none-any.whl (325 kB)\n",
      "\u001b[2K     \u001b[90m━━━━━━━━━━━━━━━━━━━━━━━━━━━━━━━━━━━━━━━\u001b[0m \u001b[32m325.8/325.8 KB\u001b[0m \u001b[31m4.3 MB/s\u001b[0m eta \u001b[36m0:00:00\u001b[0m00:01\u001b[0m00:01\u001b[0m\n",
      "\u001b[?25hCollecting pytz\n",
      "  Using cached pytz-2025.2-py2.py3-none-any.whl (509 kB)\n",
      "Installing collected packages: pytz, neo4j\n",
      "Successfully installed neo4j-6.0.2 pytz-2025.2\n"
     ]
    }
   ],
   "source": [
    "!pip install neo4j"
   ]
  },
  {
   "cell_type": "code",
   "execution_count": 2,
   "id": "42ab58ab",
   "metadata": {},
   "outputs": [
    {
     "name": "stdout",
     "output_type": "stream",
     "text": [
      "Exporting nodes...\n"
     ]
    },
    {
     "name": "stderr",
     "output_type": "stream",
     "text": [
      "Received notification from DBMS server: <GqlStatusObject gql_status='01N01', status_description='warn: feature deprecated with replacement. id is deprecated. It is replaced by elementId or consider using an application-generated id.', position=<SummaryInputPosition line=1, column=42, offset=41>, raw_classification='DEPRECATION', classification=<NotificationClassification.DEPRECATION: 'DEPRECATION'>, raw_severity='WARNING', severity=<NotificationSeverity.WARNING: 'WARNING'>, diagnostic_record={'_classification': 'DEPRECATION', '_severity': 'WARNING', '_position': {'offset': 41, 'line': 1, 'column': 42}, 'OPERATION': '', 'OPERATION_CODE': '0', 'CURRENT_SCHEMA': '/'}> for query: 'MATCH (n) RETURN n, labels(n) as labels, id(n) as id'\n"
     ]
    },
    {
     "name": "stdout",
     "output_type": "stream",
     "text": [
      "Exporting relationships...\n",
      "Export complete: export.cypher\n"
     ]
    }
   ],
   "source": [
    "# export.py\n",
    "from neo4j import GraphDatabase\n",
    "\n",
    "driver = GraphDatabase.driver(\n",
    "    \"neo4j+s://64a663c2.databases.neo4j.io\",\n",
    "    auth=(\"neo4j\", \"6ty6zc9rtk5ETSjQ3TUROHNv1UzNvsBHXgW8kd7WuRw\")\n",
    ")\n",
    "\n",
    "def export_data():\n",
    "    with driver.session() as session:\n",
    "        with open('export.cypher', 'w', encoding='utf-8') as f:\n",
    "            # Export nodes\n",
    "            print(\"Exporting nodes...\")\n",
    "            result = session.run(\"MATCH (n) RETURN n, labels(n) as labels, id(n) as id\")\n",
    "            for record in result:\n",
    "                node = record[\"n\"]\n",
    "                labels = ':'.join(record[\"labels\"])\n",
    "                props = dict(node.items())\n",
    "                props_str = ', '.join([f\"{k}: {repr(v)}\" for k, v in props.items()])\n",
    "                f.write(f\"CREATE (n:{labels} {{{props_str}}});\\n\")\n",
    "            \n",
    "            # Export relationships\n",
    "            print(\"Exporting relationships...\")\n",
    "            result = session.run(\"MATCH (a)-[r]->(b) RETURN a, r, b, type(r) as type\")\n",
    "            for record in result:\n",
    "                a = record[\"a\"]\n",
    "                b = record[\"b\"]\n",
    "                r = record[\"r\"]\n",
    "                rel_type = record[\"type\"]\n",
    "                \n",
    "                # Match nodes by properties\n",
    "                a_props = dict(a.items())\n",
    "                b_props = dict(b.items())\n",
    "                r_props = dict(r.items())\n",
    "                \n",
    "                a_match = ', '.join([f\"{k}: {repr(v)}\" for k, v in list(a_props.items())[:2]])\n",
    "                b_match = ', '.join([f\"{k}: {repr(v)}\" for k, v in list(b_props.items())[:2]])\n",
    "                r_props_str = '{' + ', '.join([f\"{k}: {repr(v)}\" for k, v in r_props.items()]) + '}' if r_props else ''\n",
    "                \n",
    "                f.write(f\"MATCH (a {{{a_match}}}), (b {{{b_match}}}) CREATE (a)-[:{rel_type} {r_props_str}]->(b);\\n\")\n",
    "\n",
    "    print(\"Export complete: export.cypher\")\n",
    "\n",
    "export_data()\n",
    "driver.close()"
   ]
  },
  {
   "cell_type": "code",
   "execution_count": 5,
   "id": "cb951967",
   "metadata": {},
   "outputs": [
    {
     "name": "stdout",
     "output_type": "stream",
     "text": [
      "Exporting nodes...\n",
      "Exporting relationships...\n",
      "Export complete\n"
     ]
    }
   ],
   "source": [
    "import json\n",
    "\n",
    "driver = GraphDatabase.driver(\n",
    "    \"neo4j+s://64a663c2.databases.neo4j.io\",\n",
    "    auth=(\"neo4j\", \"6ty6zc9rtk5ETSjQ3TUROHNv1UzNvsBHXgW8kd7WuRw\")\n",
    ")\n",
    "\n",
    "def cypher_value(v):\n",
    "    if v is None:\n",
    "        return \"null\"\n",
    "    elif isinstance(v, bool):\n",
    "        return str(v).lower()\n",
    "    elif isinstance(v, (int, float)):\n",
    "        return str(v)\n",
    "    elif isinstance(v, str):\n",
    "        return json.dumps(v)\n",
    "    elif isinstance(v, list):\n",
    "        return '[' + ', '.join(cypher_value(x) for x in v) + ']'\n",
    "    elif hasattr(v, 'isoformat'):  # datetime\n",
    "        return json.dumps(v.isoformat())\n",
    "    else:\n",
    "        return json.dumps(str(v))\n",
    "\n",
    "def export_data():\n",
    "    with driver.session() as session:\n",
    "        with open('export1.cypher', 'w', encoding='utf-8') as f:\n",
    "            # Export nodes\n",
    "            print(\"Exporting nodes...\")\n",
    "            result = session.run(\"MATCH (n) RETURN n, labels(n) as labels\")\n",
    "            for record in result:\n",
    "                node = record[\"n\"]\n",
    "                labels = ':'.join(record[\"labels\"]) if record[\"labels\"] else \"UnlabeledNode\"\n",
    "                props = {k: v for k, v in node.items()}\n",
    "                props_str = ', '.join([f\"{k}: {cypher_value(v)}\" for k, v in props.items()])\n",
    "                f.write(f\"CREATE (:{labels} {{{props_str}}});\\n\")\n",
    "            \n",
    "            # Export relationships\n",
    "            print(\"Exporting relationships...\")\n",
    "            result = session.run(\"\"\"\n",
    "                MATCH (a)-[r]->(b) \n",
    "                RETURN elementId(a) as aid, elementId(b) as bid, \n",
    "                       type(r) as type, properties(r) as props\n",
    "            \"\"\")\n",
    "            \n",
    "            node_map = {}\n",
    "            result2 = session.run(\"MATCH (n) RETURN elementId(n) as eid, properties(n) as props, labels(n) as labels\")\n",
    "            for rec in result2:\n",
    "                key_props = dict(list(rec[\"props\"].items())[:1])  # First property as key\n",
    "                node_map[rec[\"eid\"]] = (rec[\"labels\"][0] if rec[\"labels\"] else \"UnlabeledNode\", key_props)\n",
    "            \n",
    "            result = session.run(\"MATCH (a)-[r]->(b) RETURN elementId(a) as aid, elementId(b) as bid, type(r) as type, properties(r) as props\")\n",
    "            for record in result:\n",
    "                aid = record[\"aid\"]\n",
    "                bid = record[\"bid\"]\n",
    "                rel_type = record[\"type\"]\n",
    "                r_props = record[\"props\"]\n",
    "                \n",
    "                a_label, a_props = node_map.get(aid, (\"UnlabeledNode\", {}))\n",
    "                b_label, b_props = node_map.get(bid, (\"UnlabeledNode\", {}))\n",
    "                \n",
    "                a_match = ', '.join([f\"{k}: {cypher_value(v)}\" for k, v in a_props.items()])\n",
    "                b_match = ', '.join([f\"{k}: {cypher_value(v)}\" for k, v in b_props.items()])\n",
    "                r_props_str = '{' + ', '.join([f\"{k}: {cypher_value(v)}\" for k, v in r_props.items()]) + '}' if r_props else ''\n",
    "                \n",
    "                f.write(f\"MATCH (a:{a_label} {{{a_match}}}), (b:{b_label} {{{b_match}}}) CREATE (a)-[:{rel_type} {r_props_str}]->(b);\\n\")\n",
    "\n",
    "    print(\"Export complete\")\n",
    "\n",
    "export_data()\n",
    "driver.close()"
   ]
  },
  {
   "cell_type": "code",
   "execution_count": null,
   "metadata": {},
   "outputs": [],
   "source": []
  }
 ],
 "metadata": {
  "kernelspec": {
   "display_name": "upskiller_server (3.10.12)",
   "language": "python",
   "name": "python3"
  },
  "language_info": {
   "codemirror_mode": {
    "name": "ipython",
    "version": 3
   },
   "file_extension": ".py",
   "mimetype": "text/x-python",
   "name": "python",
   "nbconvert_exporter": "python",
   "pygments_lexer": "ipython3",
   "version": "3.10.12"
  }
 },
 "nbformat": 4,
 "nbformat_minor": 5
}
